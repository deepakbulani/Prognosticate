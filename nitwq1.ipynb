{
 "cells": [
  {
   "cell_type": "code",
   "execution_count": null,
   "metadata": {},
   "outputs": [],
   "source": [
    "from sklearn.linear_model import LinearRegression  # for Logistic Regression algorithm\n",
    "from sklearn.cross_validation import train_test_split #to split the dataset for training and testing\n",
    "from sklearn import metrics #for checking the model accuracy\n",
    "from sklearn.tree import DecisionTreeClassifier #for using Decision Tree Algoithm\n",
    "from sklearn.tree import DecisionTreeRegressor\n",
    "from sklearn.ensemble import RandomForestClassifier # A combine model of many decision trees\n",
    "from sklearn.metrics import accuracy_score\n",
    "from sklearn.tree import DecisionTreeRegressor\n",
    "from sklearn.naive_bayes import GaussianNB\n",
    "from sklearn import svm\n",
    "from sklearn import datasets, linear_model\n",
    "from sklearn import preprocessing\n",
    "from sklearn.model_selection import train_test_split\n",
    "from sklearn.preprocessing import LabelEncoder\n",
    "from sklearn.pipeline import Pipeline\n",
    "from sklearn import tree\n",
    "import numpy as np\n",
    "import pandas as pd\n",
    "import warnings\n",
    "warnings.filterwarnings(\"ignore\")\n",
    "import seaborn as sns\n",
    "import matplotlib.pyplot as plt\n",
    "from sklearn.metrics import r2_score\n",
    "import sklearn\n",
    "from matplotlib.colors import ListedColormap\n",
    "sns.set(style=\"white\", color_codes=True)\n",
    "class MultiColumnLabelEncoder:\n",
    "    def __init__(self,columns = None):\n",
    "        self.columns = columns # array of column names to encode\n",
    "\n",
    "    def fit(self,X,y=None):\n",
    "        return self # not relevant here\n",
    "\n",
    "    def transform(self,X):\n",
    "        '''\n",
    "        Transforms columns of X specified in self.columns using\n",
    "        LabelEncoder(). If no columns specified, transforms all\n",
    "        columns in X.\n",
    "        '''\n",
    "        output = X.copy()\n",
    "        if self.columns is not None:\n",
    "            for col in self.columns:\n",
    "                output[col] = LabelEncoder().fit_transform(output[col])\n",
    "        else:\n",
    "            for colname,col in output.iteritems():\n",
    "                output[colname] = LabelEncoder().fit_transform(col)\n",
    "        return output\n",
    "\n",
    "    def fit_transform(self,X,y=None):\n",
    "        return self.fit(X,y).transform(X)\n"
   ]
  },
  {
   "cell_type": "code",
   "execution_count": null,
   "metadata": {},
   "outputs": [],
   "source": [
    "train = pd.read_csv('train.csv');\n",
    "print(train.head(15))\n",
    "#print (\"Counts of mobile price range\",train['G3'].value_counts()) #checking counts of each type  of output\n",
    "#train = pd.get_dummies(train,columns=['Mjob', 'Fjob','reason'])\n",
    "train=train.fillna(\" \")\n",
    "train = MultiColumnLabelEncoder(columns = ['id','alcohol_consumption','location_class','workstatus','divorce','widowed','residence_region','income','engagement_religion','response']).fit_transform(train)\n",
    "train=train.replace(' ',np.NaN)\n",
    "train=train.fillna(train.mean())\n",
    "print(train.head(15))\n",
    "train, test = train_test_split(train, test_size = 0.3, random_state=900)\n",
    "\n",
    "train_x = train.iloc[:,0:17]\n",
    "train_y = train.response # output of our training data\n",
    "test_x = test.iloc[:,0:17]\n",
    "test_y = test.response # output of our training data"
   ]
  },
  {
   "cell_type": "code",
   "execution_count": null,
   "metadata": {},
   "outputs": [],
   "source": [
    "#model = sklearn.linear_model.SGDRegressor()#applying the classifier\n",
    "model = svm.SVC(kernel=\"linear\",C=10)\n",
    "model.fit(train_x,train_y)\t \n",
    "prediction = model.predict(test_x\n",
    "print(\"shape of train  \",train_x.shape , train_y.shape) #checking dimension of various data frames\n",
    "print(\"shape of test \",test_x.shape, test_y.shape)\n",
    "\n",
    "print('The accuracy of the SVM is',accuracy_score(prediction,test_y))\n",
    "test_rl=pd.read_csv('test.csv'); #now,reading actual test.csv file for predicting values\n",
    "test_rl = MultiColumnLabelEncoder(columns = ['id','alcohol_consumption','location_class','workstatus','divorce','widowed','residence_region','income','engagement_religion','response']).fit_transform(train)\n",
    "test_rl=test_rl.replace(' ',np.NaN)\n",
    "test_rl=test_rl.fillna(train.mean())\n",
    "print(test_rl.head(5))\n",
    "#test_rl = pd.get_dummies(test_rl,columns=['Mjob', 'Fjob','reason'])\n",
    "\n",
    "#test_rl = MultiColumnLabelEncoder(columns = ['school','sex','address','famsize','Pstatus','guardian','schoolsup','famsup','paid','activities','nursery','higher','internet','romantic']).fit_transform(test_rl)\n",
    "\n",
    "print(\"shape of test_real \",test_rl.shape) #checking dimensions\n",
    "prediction_real=model.predict(test_rl) #predicting the output\n",
    "print(prediction_real)\n",
    "print(\"shape of prediction_real \",prediction_real.shape)\n",
    "\n",
    "numpy.savetxt(\"answer1.csv\", prediction_real, delimiter=\",\") #writing the prediction to a file"
   ]
  },
  {
   "cell_type": "code",
   "execution_count": null,
   "metadata": {
    "collapsed": true
   },
   "outputs": [],
   "source": []
  },
  {
   "cell_type": "code",
   "execution_count": null,
   "metadata": {
    "collapsed": true
   },
   "outputs": [],
   "source": []
  },
  {
   "cell_type": "code",
   "execution_count": null,
   "metadata": {
    "collapsed": true
   },
   "outputs": [],
   "source": []
  }
 ],
 "metadata": {
  "kernelspec": {
   "display_name": "Python 3",
   "language": "python",
   "name": "python3"
  },
  "language_info": {
   "codemirror_mode": {
    "name": "ipython",
    "version": 3
   },
   "file_extension": ".py",
   "mimetype": "text/x-python",
   "name": "python",
   "nbconvert_exporter": "python",
   "pygments_lexer": "ipython3",
   "version": "3.6.1"
  }
 },
 "nbformat": 4,
 "nbformat_minor": 2
}
